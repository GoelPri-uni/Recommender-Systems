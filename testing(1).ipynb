{
 "cells": [
  {
   "cell_type": "code",
   "execution_count": 20,
   "id": "aa54905f-6b7c-43e1-9826-04f642be887b",
   "metadata": {},
   "outputs": [
    {
     "ename": "RuntimeError",
     "evalue": "Error(s) in loading state_dict for NeuMF:\n\tMissing key(s) in state_dict: \"user_embedding_gmf.weight\", \"item_embedding_gmf.weight\", \"user_embedding_mlp.weight\", \"item_embedding_mlp.weight\", \"mlp_layers.fc1.weight\", \"mlp_layers.fc1.bias\", \"mlp_layers.batchnorm1.weight\", \"mlp_layers.batchnorm1.bias\", \"mlp_layers.batchnorm1.running_mean\", \"mlp_layers.batchnorm1.running_var\", \"fc_output.weight\", \"fc_output.bias\". \n\tUnexpected key(s) in state_dict: \"module.user_embedding_gmf.weight\", \"module.item_embedding_gmf.weight\", \"module.user_embedding_mlp.weight\", \"module.item_embedding_mlp.weight\", \"module.mlp_layers.fc1.weight\", \"module.mlp_layers.fc1.bias\", \"module.mlp_layers.batchnorm1.weight\", \"module.mlp_layers.batchnorm1.bias\", \"module.mlp_layers.batchnorm1.running_mean\", \"module.mlp_layers.batchnorm1.running_var\", \"module.mlp_layers.batchnorm1.num_batches_tracked\", \"module.fc_output.weight\", \"module.fc_output.bias\". ",
     "output_type": "error",
     "traceback": [
      "\u001b[0;31m---------------------------------------------------------------------------\u001b[0m",
      "\u001b[0;31mRuntimeError\u001b[0m                              Traceback (most recent call last)",
      "Cell \u001b[0;32mIn[20], line 47\u001b[0m\n\u001b[1;32m     45\u001b[0m checkpoint \u001b[38;5;241m=\u001b[39m torch\u001b[38;5;241m.\u001b[39mload(\u001b[38;5;124m'\u001b[39m\u001b[38;5;124mbest_model_ncf_layer_.pth\u001b[39m\u001b[38;5;124m'\u001b[39m, map_location\u001b[38;5;241m=\u001b[39mdevice)\n\u001b[1;32m     46\u001b[0m new_checkpoint \u001b[38;5;241m=\u001b[39m {k\u001b[38;5;241m.\u001b[39mreplace(\u001b[38;5;124m\"\u001b[39m\u001b[38;5;124m_orig_mod.\u001b[39m\u001b[38;5;124m\"\u001b[39m,\u001b[38;5;124m\"\u001b[39m\u001b[38;5;124m\"\u001b[39m):v \u001b[38;5;28;01mfor\u001b[39;00m k ,v \u001b[38;5;129;01min\u001b[39;00m checkpoint\u001b[38;5;241m.\u001b[39mitems()}\n\u001b[0;32m---> 47\u001b[0m \u001b[43mmodel_ncf\u001b[49m\u001b[38;5;241;43m.\u001b[39;49m\u001b[43mload_state_dict\u001b[49m\u001b[43m(\u001b[49m\u001b[43mnew_checkpoint\u001b[49m\u001b[43m)\u001b[49m\n\u001b[1;32m     49\u001b[0m model_ncf\u001b[38;5;241m.\u001b[39meval()\n\u001b[1;32m     51\u001b[0m \u001b[38;5;66;03m#train_dict, val_dict, test_dict, non_interacted_movies, movie_num, user_num = load_data_rate(file_name)\u001b[39;00m\n",
      "File \u001b[0;32m~/IDL-11/.venv/lib/python3.10/site-packages/torch/nn/modules/module.py:2041\u001b[0m, in \u001b[0;36mModule.load_state_dict\u001b[0;34m(self, state_dict, strict)\u001b[0m\n\u001b[1;32m   2036\u001b[0m         error_msgs\u001b[38;5;241m.\u001b[39minsert(\n\u001b[1;32m   2037\u001b[0m             \u001b[38;5;241m0\u001b[39m, \u001b[38;5;124m'\u001b[39m\u001b[38;5;124mMissing key(s) in state_dict: \u001b[39m\u001b[38;5;132;01m{}\u001b[39;00m\u001b[38;5;124m. \u001b[39m\u001b[38;5;124m'\u001b[39m\u001b[38;5;241m.\u001b[39mformat(\n\u001b[1;32m   2038\u001b[0m                 \u001b[38;5;124m'\u001b[39m\u001b[38;5;124m, \u001b[39m\u001b[38;5;124m'\u001b[39m\u001b[38;5;241m.\u001b[39mjoin(\u001b[38;5;124m'\u001b[39m\u001b[38;5;124m\"\u001b[39m\u001b[38;5;132;01m{}\u001b[39;00m\u001b[38;5;124m\"\u001b[39m\u001b[38;5;124m'\u001b[39m\u001b[38;5;241m.\u001b[39mformat(k) \u001b[38;5;28;01mfor\u001b[39;00m k \u001b[38;5;129;01min\u001b[39;00m missing_keys)))\n\u001b[1;32m   2040\u001b[0m \u001b[38;5;28;01mif\u001b[39;00m \u001b[38;5;28mlen\u001b[39m(error_msgs) \u001b[38;5;241m>\u001b[39m \u001b[38;5;241m0\u001b[39m:\n\u001b[0;32m-> 2041\u001b[0m     \u001b[38;5;28;01mraise\u001b[39;00m \u001b[38;5;167;01mRuntimeError\u001b[39;00m(\u001b[38;5;124m'\u001b[39m\u001b[38;5;124mError(s) in loading state_dict for \u001b[39m\u001b[38;5;132;01m{}\u001b[39;00m\u001b[38;5;124m:\u001b[39m\u001b[38;5;130;01m\\n\u001b[39;00m\u001b[38;5;130;01m\\t\u001b[39;00m\u001b[38;5;132;01m{}\u001b[39;00m\u001b[38;5;124m'\u001b[39m\u001b[38;5;241m.\u001b[39mformat(\n\u001b[1;32m   2042\u001b[0m                        \u001b[38;5;28mself\u001b[39m\u001b[38;5;241m.\u001b[39m\u001b[38;5;18m__class__\u001b[39m\u001b[38;5;241m.\u001b[39m\u001b[38;5;18m__name__\u001b[39m, \u001b[38;5;124m\"\u001b[39m\u001b[38;5;130;01m\\n\u001b[39;00m\u001b[38;5;130;01m\\t\u001b[39;00m\u001b[38;5;124m\"\u001b[39m\u001b[38;5;241m.\u001b[39mjoin(error_msgs)))\n\u001b[1;32m   2043\u001b[0m \u001b[38;5;28;01mreturn\u001b[39;00m _IncompatibleKeys(missing_keys, unexpected_keys)\n",
      "\u001b[0;31mRuntimeError\u001b[0m: Error(s) in loading state_dict for NeuMF:\n\tMissing key(s) in state_dict: \"user_embedding_gmf.weight\", \"item_embedding_gmf.weight\", \"user_embedding_mlp.weight\", \"item_embedding_mlp.weight\", \"mlp_layers.fc1.weight\", \"mlp_layers.fc1.bias\", \"mlp_layers.batchnorm1.weight\", \"mlp_layers.batchnorm1.bias\", \"mlp_layers.batchnorm1.running_mean\", \"mlp_layers.batchnorm1.running_var\", \"fc_output.weight\", \"fc_output.bias\". \n\tUnexpected key(s) in state_dict: \"module.user_embedding_gmf.weight\", \"module.item_embedding_gmf.weight\", \"module.user_embedding_mlp.weight\", \"module.item_embedding_mlp.weight\", \"module.mlp_layers.fc1.weight\", \"module.mlp_layers.fc1.bias\", \"module.mlp_layers.batchnorm1.weight\", \"module.mlp_layers.batchnorm1.bias\", \"module.mlp_layers.batchnorm1.running_mean\", \"module.mlp_layers.batchnorm1.running_var\", \"module.mlp_layers.batchnorm1.num_batches_tracked\", \"module.fc_output.weight\", \"module.fc_output.bias\". "
     ]
    }
   ],
   "source": [
    "import torch\n",
    "import os\n",
    "from neuMF import NeuMF\n",
    "from dataset_updated import simple_load_data_rate, get_model_data\n",
    "import random\n",
    "import torch\n",
    "import torch.nn as nn\n",
    "import torch.multiprocessing as mp\n",
    "mp.set_start_method('spawn', force=True)\n",
    "# import data as data\n",
    "# import model_evaluation as evaluation\n",
    "import torch.optim as optim\n",
    "import torch._dynamo\n",
    "import numpy as np\n",
    "import heapq\n",
    "from torch.optim.lr_scheduler import ReduceLROnPlateau\n",
    "from evaluation import model_evaluation, model_evaluation_metric\n",
    "import pandas as pd\n",
    "from collections import defaultdict\n",
    "torch._dynamo.config.suppress_errors = True\n",
    "\n",
    "random.seed(1000)\n",
    "\n",
    "device = torch.device(\"cuda\" if torch.cuda.is_available() else \"cpu\")\n",
    "\n",
    "base_dir = os.getcwd()\n",
    "name_rating_dir = \"ml-1m/ratings.dat\"\n",
    "rating_data_file = os.path.join(base_dir, name_rating_dir)\n",
    "\n",
    "train_dict, valid_dict, test_dict, movie_num, user_num, removed_users_info= simple_load_data_rate(rating_data_file, negative_sample_no_train=10,negative_sample_no_valid= 100, threshold=3)\n",
    "\n",
    "train_user_input, train_movie_input, train_labels = get_model_data(train_dict)\n",
    "valid_user_input, valid_movie_input, valid_labels = get_model_data(valid_dict)\n",
    "test_user_input, test_movie_input, test_labels = get_model_data(test_dict)\n",
    "\n",
    "\n",
    "\n",
    "model_ncf = NeuMF(\n",
    "    num_users=user_num + 1,  # +1 for 0-based indexing\n",
    "    num_items=movie_num + 1,\n",
    "    mf_dim=8,       # Larger embeddings (vs. 10) for richer latent features\n",
    "    layers=[16,8], # Deeper MLP for nonlinear interactions  \n",
    ").to(device)\n",
    "\n",
    "checkpoint = torch.load('best_model_ncf_layer_.pth', map_location=device)\n",
    "new_checkpoint = {k.replace(\"_orig_mod.\",\"\"):v for k ,v in checkpoint.items()}\n",
    "model_ncf.load_state_dict(new_checkpoint)\n",
    "\n",
    "model_ncf.eval()\n",
    "\n",
    "#train_dict, val_dict, test_dict, non_interacted_movies, movie_num, user_num = load_data_rate(file_name)\n",
    "\n",
    "\n",
    "test_dict = defaultdict(list)\n",
    "\n",
    "for user_id, movie_id, label in zip(test_user_input, test_movie_input, test_labels):\n",
    "    test_dict[user_id].append((movie_id, label))\n",
    "test_dict = dict(test_dict)\n",
    "\n",
    "with torch.no_grad():\n",
    "    test_recall, test_ndcg = model_evaluation_metric(model, test_dict, device, K=10)\n",
    "    print(f\"\\n=== Test Recall@10: {test_recall:.4f}, Test NDCG@10: {test_ndcg:.4f} ===\\n\")\n",
    "    \n",
    "    results[name] = {\n",
    "       \n",
    "        \"test_recall\": test_recall,\n",
    "        \"test_ndcg\": test_ndcg\n",
    "    }"
   ]
  },
  {
   "cell_type": "code",
   "execution_count": null,
   "id": "9b960f45-5c74-46ad-bd97-8fa32dca0207",
   "metadata": {},
   "outputs": [],
   "source": []
  }
 ],
 "metadata": {
  "kernelspec": {
   "display_name": "Python (IDL-11)",
   "language": "python",
   "name": "idl-env"
  },
  "language_info": {
   "codemirror_mode": {
    "name": "ipython",
    "version": 3
   },
   "file_extension": ".py",
   "mimetype": "text/x-python",
   "name": "python",
   "nbconvert_exporter": "python",
   "pygments_lexer": "ipython3",
   "version": "3.10.7"
  }
 },
 "nbformat": 4,
 "nbformat_minor": 5
}
