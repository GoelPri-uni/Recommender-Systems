{
 "cells": [
  {
   "cell_type": "code",
   "execution_count": 5,
   "id": "aa54905f-6b7c-43e1-9826-04f642be887b",
   "metadata": {},
   "outputs": [
    {
     "ename": "NameError",
     "evalue": "name 'device' is not defined",
     "output_type": "error",
     "traceback": [
      "\u001b[0;31m---------------------------------------------------------------------------\u001b[0m",
      "\u001b[0;31mNameError\u001b[0m                                 Traceback (most recent call last)",
      "Cell \u001b[0;32mIn[5], line 43\u001b[0m\n\u001b[1;32m     40\u001b[0m test_dict \u001b[38;5;241m=\u001b[39m \u001b[38;5;28mdict\u001b[39m(test_dict)\n\u001b[1;32m     42\u001b[0m \u001b[38;5;28;01mwith\u001b[39;00m torch\u001b[38;5;241m.\u001b[39mno_grad():\n\u001b[0;32m---> 43\u001b[0m     test_recall, test_ndcg \u001b[38;5;241m=\u001b[39m model_evaluation_metric(model, test_dict, \u001b[43mdevice\u001b[49m, K\u001b[38;5;241m=\u001b[39m\u001b[38;5;241m10\u001b[39m)\n\u001b[1;32m     44\u001b[0m     \u001b[38;5;28mprint\u001b[39m(\u001b[38;5;124mf\u001b[39m\u001b[38;5;124m\"\u001b[39m\u001b[38;5;130;01m\\n\u001b[39;00m\u001b[38;5;124m=== Test Recall@10: \u001b[39m\u001b[38;5;132;01m{\u001b[39;00mtest_recall\u001b[38;5;132;01m:\u001b[39;00m\u001b[38;5;124m.4f\u001b[39m\u001b[38;5;132;01m}\u001b[39;00m\u001b[38;5;124m, Test NDCG@10: \u001b[39m\u001b[38;5;132;01m{\u001b[39;00mtest_ndcg\u001b[38;5;132;01m:\u001b[39;00m\u001b[38;5;124m.4f\u001b[39m\u001b[38;5;132;01m}\u001b[39;00m\u001b[38;5;124m ===\u001b[39m\u001b[38;5;130;01m\\n\u001b[39;00m\u001b[38;5;124m\"\u001b[39m)\n\u001b[1;32m     46\u001b[0m     results[name] \u001b[38;5;241m=\u001b[39m {\n\u001b[1;32m     47\u001b[0m        \n\u001b[1;32m     48\u001b[0m         \u001b[38;5;124m\"\u001b[39m\u001b[38;5;124mtest_recall\u001b[39m\u001b[38;5;124m\"\u001b[39m: test_recall,\n\u001b[1;32m     49\u001b[0m         \u001b[38;5;124m\"\u001b[39m\u001b[38;5;124mtest_ndcg\u001b[39m\u001b[38;5;124m\"\u001b[39m: test_ndcg\n\u001b[1;32m     50\u001b[0m     }\n",
      "\u001b[0;31mNameError\u001b[0m: name 'device' is not defined"
     ]
    }
   ],
   "source": [
    "import torch\n",
    "import os\n",
    "from neuMF import NeuMF\n",
    "from dataset_updated import simple_load_data_rate, get_model_data\n",
    "import random\n",
    "import torch\n",
    "import torch.nn as nn\n",
    "import torch.multiprocessing as mp\n",
    "mp.set_start_method('spawn', force=True)\n",
    "# import data as data\n",
    "# import model_evaluation as evaluation\n",
    "import torch.optim as optim\n",
    "import torch._dynamo\n",
    "import numpy as np\n",
    "import heapq\n",
    "from torch.optim.lr_scheduler import ReduceLROnPlateau\n",
    "from evaluation import model_evaluation, model_evaluation_metric\n",
    "import pandas as pd\n",
    "from collections import defaultdict\n",
    "torch._dynamo.config.suppress_errors = True\n",
    "\n",
    "model = torch.load('best_model_ncf_layer.pth', weights_only=False)\n",
    "\n",
    "\n",
    "base_dir = os.getcwd()\n",
    "name_rating_dir = \"ml-1m/ratings.dat\"\n",
    "rating_data_file = os.path.join(base_dir, name_rating_dir)\n",
    "\n",
    "#train_dict, val_dict, test_dict, non_interacted_movies, movie_num, user_num = load_data_rate(file_name)\n",
    "\n",
    "train_dict, valid_dict, test_dict, movie_num, user_num, removed_users_info= simple_load_data_rate(rating_data_file, negative_sample_no_train=10,negative_sample_no_valid= 100, threshold=3)\n",
    "\n",
    "train_user_input, train_movie_input, train_labels = get_model_data(train_dict)\n",
    "valid_user_input, valid_movie_input, valid_labels = get_model_data(valid_dict)\n",
    "test_user_input, test_movie_input, test_labels = get_model_data(test_dict)\n",
    "\n",
    "test_dict = defaultdict(list)\n",
    "for user_id, movie_id, label in zip(test_user_input, test_movie_input, test_labels):\n",
    "    test_dict[user_id].append((movie_id, label))\n",
    "test_dict = dict(test_dict)\n",
    "\n",
    "with torch.no_grad():\n",
    "    test_recall, test_ndcg = model_evaluation_metric(model, test_dict, device, K=10)\n",
    "    print(f\"\\n=== Test Recall@10: {test_recall:.4f}, Test NDCG@10: {test_ndcg:.4f} ===\\n\")\n",
    "    \n",
    "    results[name] = {\n",
    "       \n",
    "        \"test_recall\": test_recall,\n",
    "        \"test_ndcg\": test_ndcg\n",
    "    }"
   ]
  },
  {
   "cell_type": "code",
   "execution_count": null,
   "id": "9b960f45-5c74-46ad-bd97-8fa32dca0207",
   "metadata": {},
   "outputs": [],
   "source": []
  }
 ],
 "metadata": {
  "kernelspec": {
   "display_name": "Python (IDL-11)",
   "language": "python",
   "name": "idl-env"
  },
  "language_info": {
   "codemirror_mode": {
    "name": "ipython",
    "version": 3
   },
   "file_extension": ".py",
   "mimetype": "text/x-python",
   "name": "python",
   "nbconvert_exporter": "python",
   "pygments_lexer": "ipython3",
   "version": "3.10.7"
  }
 },
 "nbformat": 4,
 "nbformat_minor": 5
}
